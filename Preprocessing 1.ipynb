{
 "cells": [
  {
   "cell_type": "code",
   "execution_count": 105,
   "metadata": {},
   "outputs": [],
   "source": [
    "import pandas as pd\n",
    "pd.set_option('display.max_columns',150)\n",
    "pd.set_option('display.max_rows',150)"
   ]
  },
  {
   "cell_type": "code",
   "execution_count": 106,
   "metadata": {},
   "outputs": [],
   "source": [
    "df1 = pd.read_csv('hyd_first_rentals_000.csv')\n",
    "df2 = pd.read_csv('hyd_first_rentals_100.csv')\n",
    "df3 = pd.read_csv('hyd_first_rentals_200.csv')\n",
    "df4 = pd.read_csv('hyd_first_rentals_300.csv')\n",
    "df5 = pd.read_csv('hyd_first_rentals_400.csv')\n",
    "df6 = pd.read_csv('hyd_first_rentals_414.csv')"
   ]
  },
  {
   "cell_type": "code",
   "execution_count": 107,
   "metadata": {},
   "outputs": [
    {
     "data": {
      "text/html": [
       "<div>\n",
       "<style scoped>\n",
       "    .dataframe tbody tr th:only-of-type {\n",
       "        vertical-align: middle;\n",
       "    }\n",
       "\n",
       "    .dataframe tbody tr th {\n",
       "        vertical-align: top;\n",
       "    }\n",
       "\n",
       "    .dataframe thead th {\n",
       "        text-align: right;\n",
       "    }\n",
       "</style>\n",
       "<table border=\"1\" class=\"dataframe\">\n",
       "  <thead>\n",
       "    <tr style=\"text-align: right;\">\n",
       "      <th></th>\n",
       "      <th>bedrooms</th>\n",
       "      <th>locality</th>\n",
       "      <th>builder</th>\n",
       "      <th>property_type</th>\n",
       "      <th>ispaiduser</th>\n",
       "      <th>price</th>\n",
       "      <th>user_type</th>\n",
       "      <th>prop_id</th>\n",
       "      <th>other</th>\n",
       "      <th>description</th>\n",
       "    </tr>\n",
       "  </thead>\n",
       "  <tbody>\n",
       "    <tr>\n",
       "      <th>0</th>\n",
       "      <td>2</td>\n",
       "      <td>Beeramguda, Ramachandra Puram, NH  9</td>\n",
       "      <td>NaN</td>\n",
       "      <td>Residential House</td>\n",
       "      <td>Y</td>\n",
       "      <td>9,000</td>\n",
       "      <td>Owner</td>\n",
       "      <td>domcache_srp_48930897</td>\n",
       "      <td>floor 1 out of 2 Floors   furnishing Unfurnish...</td>\n",
       "      <td>Looking for a bright and airy residence to mov...</td>\n",
       "    </tr>\n",
       "    <tr>\n",
       "      <th>1</th>\n",
       "      <td>3</td>\n",
       "      <td>Patrika Nagar, Hitech City</td>\n",
       "      <td>NaN</td>\n",
       "      <td>Builder Floor Apartment</td>\n",
       "      <td>Y</td>\n",
       "      <td>22,000</td>\n",
       "      <td>Agent</td>\n",
       "      <td>domcache_srp_57083523</td>\n",
       "      <td>floor 1 out of 5 Floors   furnishing Furnished...</td>\n",
       "      <td>3BHK Property Available For Rent</td>\n",
       "    </tr>\n",
       "    <tr>\n",
       "      <th>2</th>\n",
       "      <td>3</td>\n",
       "      <td>NaN</td>\n",
       "      <td>NaN</td>\n",
       "      <td>Apartment</td>\n",
       "      <td>Y</td>\n",
       "      <td>40,000</td>\n",
       "      <td>Agent</td>\n",
       "      <td>domcache_srp_57071547</td>\n",
       "      <td>floor 9 out of 14 Floors   furnishing Semi-Fur...</td>\n",
       "      <td>3 BHK, Multistorey Apartment is available for ...</td>\n",
       "    </tr>\n",
       "    <tr>\n",
       "      <th>3</th>\n",
       "      <td>4</td>\n",
       "      <td>Nanakram Guda</td>\n",
       "      <td>NaN</td>\n",
       "      <td>Apartment</td>\n",
       "      <td>Y</td>\n",
       "      <td>80,000</td>\n",
       "      <td>Agent</td>\n",
       "      <td>domcache_srp_56793769</td>\n",
       "      <td>floor 3 out of 9 Floors   furnishing Unfurnish...</td>\n",
       "      <td>This property is in highly premium location, A...</td>\n",
       "    </tr>\n",
       "    <tr>\n",
       "      <th>4</th>\n",
       "      <td>3</td>\n",
       "      <td>Tellapur, Outer Ring Road</td>\n",
       "      <td>NaN</td>\n",
       "      <td>Villa</td>\n",
       "      <td>Y</td>\n",
       "      <td>40,000</td>\n",
       "      <td>Agent</td>\n",
       "      <td>domcache_srp_57049739</td>\n",
       "      <td>furnishing Semi-Furnished   tenants preferred ...</td>\n",
       "      <td>it is a gated community villa project providin...</td>\n",
       "    </tr>\n",
       "  </tbody>\n",
       "</table>\n",
       "</div>"
      ],
      "text/plain": [
       "  bedrooms                              locality  builder  \\\n",
       "0        2  Beeramguda, Ramachandra Puram, NH  9      NaN   \n",
       "1        3            Patrika Nagar, Hitech City      NaN   \n",
       "2        3                                   NaN      NaN   \n",
       "3        4                         Nanakram Guda      NaN   \n",
       "4        3             Tellapur, Outer Ring Road      NaN   \n",
       "\n",
       "             property_type ispaiduser   price user_type  \\\n",
       "0        Residential House          Y   9,000     Owner   \n",
       "1  Builder Floor Apartment          Y  22,000     Agent   \n",
       "2                Apartment          Y  40,000     Agent   \n",
       "3                Apartment          Y  80,000     Agent   \n",
       "4                    Villa          Y  40,000     Agent   \n",
       "\n",
       "                 prop_id                                              other  \\\n",
       "0  domcache_srp_48930897  floor 1 out of 2 Floors   furnishing Unfurnish...   \n",
       "1  domcache_srp_57083523  floor 1 out of 5 Floors   furnishing Furnished...   \n",
       "2  domcache_srp_57071547  floor 9 out of 14 Floors   furnishing Semi-Fur...   \n",
       "3  domcache_srp_56793769  floor 3 out of 9 Floors   furnishing Unfurnish...   \n",
       "4  domcache_srp_57049739  furnishing Semi-Furnished   tenants preferred ...   \n",
       "\n",
       "                                         description  \n",
       "0  Looking for a bright and airy residence to mov...  \n",
       "1                   3BHK Property Available For Rent  \n",
       "2  3 BHK, Multistorey Apartment is available for ...  \n",
       "3  This property is in highly premium location, A...  \n",
       "4  it is a gated community villa project providin...  "
      ]
     },
     "execution_count": 107,
     "metadata": {},
     "output_type": "execute_result"
    }
   ],
   "source": [
    "df1.head()"
   ]
  },
  {
   "cell_type": "code",
   "execution_count": 108,
   "metadata": {},
   "outputs": [],
   "source": [
    "frames1 = [df1, df2]\n",
    "df_cat1 = pd.concat(frames1)\n",
    "\n",
    "frames2 = [df_cat1, df3]\n",
    "df_cat2 = pd.concat(frames2)\n",
    "\n",
    "frames3 = [df_cat2, df4]\n",
    "df_cat3 = pd.concat(frames3)\n",
    "\n",
    "frames4 = [df_cat3, df5]\n",
    "df_cat4 = pd.concat(frames4)\n",
    "\n",
    "frames5 = [df_cat4, df6]\n",
    "df_cat5 = pd.concat(frames5)"
   ]
  },
  {
   "cell_type": "code",
   "execution_count": 109,
   "metadata": {},
   "outputs": [
    {
     "data": {
      "text/plain": [
       "(12360, 10)"
      ]
     },
     "execution_count": 109,
     "metadata": {},
     "output_type": "execute_result"
    }
   ],
   "source": [
    "df_cat5.shape"
   ]
  },
  {
   "cell_type": "code",
   "execution_count": 110,
   "metadata": {},
   "outputs": [],
   "source": [
    "df_cat5.drop_duplicates(subset=['prop_id'],inplace=True)"
   ]
  },
  {
   "cell_type": "code",
   "execution_count": 111,
   "metadata": {},
   "outputs": [
    {
     "data": {
      "text/plain": [
       "(9975, 10)"
      ]
     },
     "execution_count": 111,
     "metadata": {},
     "output_type": "execute_result"
    }
   ],
   "source": [
    "df_cat5.shape"
   ]
  },
  {
   "cell_type": "code",
   "execution_count": 112,
   "metadata": {},
   "outputs": [
    {
     "data": {
      "text/plain": [
       "5    Financial District, Nanakram Guda\n",
       "5                          Puppalaguda\n",
       "5             Anupama Homes, Manikonda\n",
       "Name: locality, dtype: object"
      ]
     },
     "execution_count": 112,
     "metadata": {},
     "output_type": "execute_result"
    }
   ],
   "source": [
    "df_cat5.loc[5,'locality']"
   ]
  },
  {
   "cell_type": "code",
   "execution_count": 113,
   "metadata": {},
   "outputs": [],
   "source": [
    "df_cat5.reset_index(drop=True, inplace=True)"
   ]
  },
  {
   "cell_type": "code",
   "execution_count": 114,
   "metadata": {},
   "outputs": [
    {
     "data": {
      "text/plain": [
       "(9975, 10)"
      ]
     },
     "execution_count": 114,
     "metadata": {},
     "output_type": "execute_result"
    }
   ],
   "source": [
    "df_cat5.shape"
   ]
  },
  {
   "cell_type": "code",
   "execution_count": 115,
   "metadata": {},
   "outputs": [],
   "source": [
    "df_cat5.to_csv('concat_first.csv', index=False)"
   ]
  },
  {
   "cell_type": "code",
   "execution_count": null,
   "metadata": {},
   "outputs": [],
   "source": []
  }
 ],
 "metadata": {
  "kernelspec": {
   "display_name": "Python 3",
   "language": "python",
   "name": "python3"
  },
  "language_info": {
   "codemirror_mode": {
    "name": "ipython",
    "version": 3
   },
   "file_extension": ".py",
   "mimetype": "text/x-python",
   "name": "python",
   "nbconvert_exporter": "python",
   "pygments_lexer": "ipython3",
   "version": "3.8.5"
  }
 },
 "nbformat": 4,
 "nbformat_minor": 4
}
