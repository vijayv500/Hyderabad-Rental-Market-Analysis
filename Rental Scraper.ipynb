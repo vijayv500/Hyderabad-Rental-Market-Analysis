{
 "cells": [
  {
   "cell_type": "code",
   "execution_count": 1,
   "metadata": {},
   "outputs": [],
   "source": [
    "import re\n",
    "from IPython.core.display import clear_output\n",
    "from warnings import warn\n",
    "\n",
    "import time\n",
    "from time import sleep\n",
    "from random import randint\n",
    "\n",
    "import pandas as pd\n",
    "from bs4 import BeautifulSoup\n",
    "from urllib.request import urlopen,Request\n",
    "import csv\n",
    "\n",
    "pd.set_option('display.max_columns',150)\n",
    "pd.set_option('display.max_rows',150)"
   ]
  },
  {
   "cell_type": "code",
   "execution_count": 2,
   "metadata": {},
   "outputs": [],
   "source": [
    "headers = ({'User-Agent':'Mozilla/5.0 (Macintosh; Intel Mac OS X 11_5_2) AppleWebKit/605.1.15 (KHTML, like Gecko) Version/14.1.2 Safari/605.1.15'})"
   ]
  },
  {
   "cell_type": "code",
   "execution_count": 3,
   "metadata": {},
   "outputs": [],
   "source": [
    "url = 'https://www.magicbricks.com/mbsearch/propertySearch.html?propertyType_new=10002_10003_10021_10022_10020,10001_10017&postedSince=-1&city=2060&searchType=1&propertyType=10002,10003,10021,10022,10020,10001,10017&disWeb=Y&pType=10002,10003,10021,10022,10001,10017&category=R&cusImgCount=1&groupstart=12418&offset=0&maxOffset=9&attractiveIds=&page=415&ltrIds=48930897,53849419&preCompiledProp=&excludePropIds=&addpropertyDataSet='"
   ]
  },
  {
   "cell_type": "code",
   "execution_count": 4,
   "metadata": {},
   "outputs": [
    {
     "name": "stdout",
     "output_type": "stream",
     "text": [
      "scraping from page 414 now\n"
     ]
    }
   ],
   "source": [
    "flats1 = []\n",
    "flats2 = []\n",
    "flats3 = []\n",
    "\n",
    "p = 12448\n",
    "q = 416\n",
    "\n",
    "for i in range(414,415):\n",
    "    request = Request(url, headers=headers)\n",
    "    response = urlopen(request)\n",
    "    print(\"scraping from page {} now\".format(i))\n",
    "    \n",
    "    sleep(randint(8,15))\n",
    "    \n",
    "    html = response.read()\n",
    "    html_soup = BeautifulSoup(html ,'html.parser')\n",
    "    \n",
    "    house_container1 = html_soup.find_all('span', class_ = 'domcache js-domcache-srpgtm')\n",
    "    house_container2 = html_soup.find_all('div', class_=\"m-srp-card__summary js-collapse__content\")\n",
    "    house_container3 = html_soup.find_all('div', class_=\"m-srp-card__description js-content-read-more truncated\")\n",
    "    house_container4 = html_soup.find_all('span', class_=\"hidden\")\n",
    "    house_container5 = html_soup.find_all('div', class_=\"m-srp-card SRCard\")\n",
    "    \n",
    "    \n",
    "    for i in range(len(house_container1)):\n",
    "       \n",
    "        try:\n",
    "            bedrooms = house_container1[i]['data-bedroom']\n",
    "        except:\n",
    "            bedrooms = ''\n",
    "            \n",
    "        try:\n",
    "            locality = house_container1[i]['data-objlmtdname']\n",
    "        except:\n",
    "            locality = ''\n",
    "            \n",
    "        try:\n",
    "            builder = house_container[i]['data-companyname']\n",
    "        except:\n",
    "            builder = ''    \n",
    "            \n",
    "        try:\n",
    "            property_type = house_container1[i]['data-objproptypeid']\n",
    "        except:\n",
    "            property_type = ''\n",
    "            \n",
    "        try:\n",
    "            ispaiduser = house_container1[i]['data-paiduser']\n",
    "        except:\n",
    "            ispaiduser = ''  \n",
    "            \n",
    "        try:\n",
    "            price = house_container1[i]['data-priced']\n",
    "        except:\n",
    "            price = ''\n",
    "            \n",
    "        try:\n",
    "            user_type = house_container1[i]['data-susertype']\n",
    "        except:\n",
    "            user_type = ''  \n",
    "            \n",
    "        try:\n",
    "            prop_id = house_container1[i]['id']\n",
    "        except:\n",
    "            prop_id = ''\n",
    "            \n",
    "        try:\n",
    "            other = house_container2[i].text.replace('\\t','').replace('\\n',' ').strip()\n",
    "        except:\n",
    "            other = ''    \n",
    "            \n",
    "        try:\n",
    "            description = house_container3[i].text.replace('\\t','').replace('\\n','').strip()\n",
    "        except:\n",
    "            description = ''\n",
    "        \n",
    "        flat = (bedrooms,locality,builder,property_type,ispaiduser,price,user_type,prop_id,other,description)\n",
    "        flats1.append(flat)\n",
    "            \n",
    "           \n",
    "    for i in range(len(house_container4)):\n",
    "        \n",
    "        try:\n",
    "            bathrooms = house_container4[i]['data-bathroom']\n",
    "        except:\n",
    "            bathrooms = ''\n",
    "            \n",
    "        try:\n",
    "            bedrooms2 = house_container4[i]['data-bedroom']\n",
    "        except:\n",
    "            bedrooms2 = ''\n",
    "            \n",
    "        try:\n",
    "            date_posted = house_container4[i]['data-createdate']\n",
    "        except:\n",
    "            date_posted = ''  \n",
    "            \n",
    "        try:\n",
    "            builder2 = house_container4[i]['data-devname']\n",
    "        except:\n",
    "            builder2 = ''  \n",
    "            \n",
    "        try:\n",
    "            project = house_container4[i]['data-projectname']\n",
    "        except:\n",
    "            project = ''   \n",
    "            \n",
    "        try:\n",
    "            floor = house_container4[i]['data-floorno']\n",
    "        except:\n",
    "            floor = ''\n",
    "            \n",
    "        try:\n",
    "            furnish_status = house_container4[i]['data-furnshingstatus']\n",
    "        except:\n",
    "            furnish_status = ''    \n",
    "            \n",
    "        try:\n",
    "            price2 = house_container4[i]['data-price']\n",
    "        except:\n",
    "            price2 = '' \n",
    "            \n",
    "        try:\n",
    "            property_type2 = house_container4[i]['data-propertyval']\n",
    "        except:\n",
    "            property_type2 = '' \n",
    "            \n",
    "        try:\n",
    "            user_type2 = house_container4[i]['data-usertype']\n",
    "        except:\n",
    "            user_type2 = ''  \n",
    "            \n",
    "        try:\n",
    "            prop_id = house_container4[i]['id']\n",
    "        except:\n",
    "            prop_id = ''  \n",
    "            \n",
    "        flat = (bathrooms,bedrooms2,date_posted,builder2,project,floor,furnish_status,price2,property_type2,user_type2,prop_id)    \n",
    "        flats2.append(flat)    \n",
    "            \n",
    "            \n",
    "    for i in range(len(house_container5)):  \n",
    "        \n",
    "        try:\n",
    "            link = house_container5[i]['data-code']\n",
    "        except:\n",
    "            link = '' \n",
    "            \n",
    "        try:\n",
    "            prop_id = house_container5[i]['data-id']\n",
    "        except:\n",
    "            prop_id = ''  \n",
    "            \n",
    "        flat = (link, prop_id) \n",
    "        flats3.append(flat)\n",
    "        \n",
    "    url = 'https://www.magicbricks.com/mbsearch/propertySearch.html?propertyType_new=10002_10003_10021_10022_10020,10001_10017&postedSince=-1&city=2060&searchType=1&propertyType=10002,10003,10021,10022,10020,10001,10017&disWeb=Y&pType=10002,10003,10021,10022,10001,10017&category=R&cusImgCount=1&groupstart={}&offset=0&maxOffset=9&attractiveIds=&page={}&ltrIds=48930897,53849419&preCompiledProp=&excludePropIds=&addpropertyDataSet='.format(p,q)    \n",
    "    p =  p+30\n",
    "    q =  q+1          "
   ]
  },
  {
   "cell_type": "code",
   "execution_count": 5,
   "metadata": {},
   "outputs": [],
   "source": [
    "with open('hyd_first_rentals_414.csv', 'w', newline='', encoding='utf-8') as f:\n",
    "        w = csv.writer(f)\n",
    "        w.writerow(['bedrooms','locality','builder','property_type','ispaiduser','price','user_type','prop_id',\n",
    "                    'other','description'])\n",
    "        w.writerows(flats1)"
   ]
  },
  {
   "cell_type": "code",
   "execution_count": 6,
   "metadata": {},
   "outputs": [],
   "source": [
    "with open('hyd_second_rentals_414.csv', 'w', newline='', encoding='utf-8') as f:\n",
    "        w = csv.writer(f)\n",
    "        w.writerow(['bathrooms','bedrooms2','date_posted','builder2','project','floor','furnish_status','price2','property_type2','user_type2','prop_id'])\n",
    "        w.writerows(flats2)"
   ]
  },
  {
   "cell_type": "code",
   "execution_count": 7,
   "metadata": {},
   "outputs": [],
   "source": [
    "with open('hyd_third_rentals_414.csv', 'w', newline='', encoding='utf-8') as f:\n",
    "        w = csv.writer(f)\n",
    "        w.writerow(['link','prop_id'])\n",
    "        w.writerows(flats3)"
   ]
  },
  {
   "cell_type": "code",
   "execution_count": 8,
   "metadata": {},
   "outputs": [
    {
     "data": {
      "text/plain": [
       "'https://www.magicbricks.com/mbsearch/propertySearch.html?propertyType_new=10002_10003_10021_10022_10020,10001_10017&postedSince=-1&city=2060&searchType=1&propertyType=10002,10003,10021,10022,10020,10001,10017&disWeb=Y&pType=10002,10003,10021,10022,10001,10017&category=R&cusImgCount=1&groupstart=12448&offset=0&maxOffset=9&attractiveIds=&page=416&ltrIds=48930897,53849419&preCompiledProp=&excludePropIds=&addpropertyDataSet='"
      ]
     },
     "execution_count": 8,
     "metadata": {},
     "output_type": "execute_result"
    }
   ],
   "source": [
    "url"
   ]
  },
  {
   "cell_type": "code",
   "execution_count": 9,
   "metadata": {},
   "outputs": [],
   "source": [
    "# 'https://www.magicbricks.com/mbsearch/propertySearch.html?propertyType_new=10002_10003_10021_10022_10020,10001_10017&postedSince=-1&city=2060&searchType=1&propertyType=10002,10003,10021,10022,10020,10001,10017&disWeb=Y&pType=10002,10003,10021,10022,10001,10017&category=R&cusImgCount=1&groupstart=12418&offset=0&maxOffset=9&attractiveIds=&page=415&ltrIds=48930897,53849419&preCompiledProp=&excludePropIds=&addpropertyDataSet='"
   ]
  }
 ],
 "metadata": {
  "kernelspec": {
   "display_name": "Python 3",
   "language": "python",
   "name": "python3"
  },
  "language_info": {
   "codemirror_mode": {
    "name": "ipython",
    "version": 3
   },
   "file_extension": ".py",
   "mimetype": "text/x-python",
   "name": "python",
   "nbconvert_exporter": "python",
   "pygments_lexer": "ipython3",
   "version": "3.8.5"
  }
 },
 "nbformat": 4,
 "nbformat_minor": 4
}
