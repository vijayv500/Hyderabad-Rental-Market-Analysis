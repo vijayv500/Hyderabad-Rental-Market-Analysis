{
 "cells": [
  {
   "cell_type": "code",
   "execution_count": 45,
   "metadata": {},
   "outputs": [],
   "source": [
    "import pandas as pd\n",
    "pd.set_option('display.max_columns',150)\n",
    "pd.set_option('display.max_rows',150)"
   ]
  },
  {
   "cell_type": "code",
   "execution_count": 46,
   "metadata": {},
   "outputs": [],
   "source": [
    "df1 = pd.read_csv('hyd_second_rentals_000.csv')\n",
    "df2 = pd.read_csv('hyd_second_rentals_100.csv')\n",
    "df3 = pd.read_csv('hyd_second_rentals_200.csv')\n",
    "df4 = pd.read_csv('hyd_second_rentals_300.csv')\n",
    "df5 = pd.read_csv('hyd_second_rentals_400.csv')\n",
    "df6 = pd.read_csv('hyd_second_rentals_414.csv')"
   ]
  },
  {
   "cell_type": "code",
   "execution_count": 47,
   "metadata": {},
   "outputs": [
    {
     "data": {
      "text/html": [
       "<div>\n",
       "<style scoped>\n",
       "    .dataframe tbody tr th:only-of-type {\n",
       "        vertical-align: middle;\n",
       "    }\n",
       "\n",
       "    .dataframe tbody tr th {\n",
       "        vertical-align: top;\n",
       "    }\n",
       "\n",
       "    .dataframe thead th {\n",
       "        text-align: right;\n",
       "    }\n",
       "</style>\n",
       "<table border=\"1\" class=\"dataframe\">\n",
       "  <thead>\n",
       "    <tr style=\"text-align: right;\">\n",
       "      <th></th>\n",
       "      <th>bathrooms</th>\n",
       "      <th>bedrooms2</th>\n",
       "      <th>date_posted</th>\n",
       "      <th>builder2</th>\n",
       "      <th>project</th>\n",
       "      <th>floor</th>\n",
       "      <th>furnish_status</th>\n",
       "      <th>price2</th>\n",
       "      <th>property_type2</th>\n",
       "      <th>user_type2</th>\n",
       "      <th>prop_id</th>\n",
       "    </tr>\n",
       "  </thead>\n",
       "  <tbody>\n",
       "    <tr>\n",
       "      <th>0</th>\n",
       "      <td>NaN</td>\n",
       "      <td>NaN</td>\n",
       "      <td>NaN</td>\n",
       "      <td>NaN</td>\n",
       "      <td>NaN</td>\n",
       "      <td>NaN</td>\n",
       "      <td>NaN</td>\n",
       "      <td>NaN</td>\n",
       "      <td>NaN</td>\n",
       "      <td>NaN</td>\n",
       "      <td>domcache_globalNav</td>\n",
       "    </tr>\n",
       "    <tr>\n",
       "      <th>1</th>\n",
       "      <td>2</td>\n",
       "      <td>2</td>\n",
       "      <td>20210918.0</td>\n",
       "      <td>NaN</td>\n",
       "      <td>NaN</td>\n",
       "      <td>1</td>\n",
       "      <td>Unfurnished</td>\n",
       "      <td>9000.0</td>\n",
       "      <td>Residential House</td>\n",
       "      <td>Owner</td>\n",
       "      <td>domcache_srp_48930897</td>\n",
       "    </tr>\n",
       "    <tr>\n",
       "      <th>2</th>\n",
       "      <td>3</td>\n",
       "      <td>3</td>\n",
       "      <td>20210918.0</td>\n",
       "      <td>NaN</td>\n",
       "      <td>NaN</td>\n",
       "      <td>1</td>\n",
       "      <td>Furnished</td>\n",
       "      <td>22000.0</td>\n",
       "      <td>Builder Floor Apartment</td>\n",
       "      <td>Agent</td>\n",
       "      <td>domcache_srp_57083523</td>\n",
       "    </tr>\n",
       "    <tr>\n",
       "      <th>3</th>\n",
       "      <td>3</td>\n",
       "      <td>3</td>\n",
       "      <td>20210918.0</td>\n",
       "      <td>NaN</td>\n",
       "      <td>NaN</td>\n",
       "      <td>9</td>\n",
       "      <td>Semi-Furnished</td>\n",
       "      <td>40000.0</td>\n",
       "      <td>Apartment</td>\n",
       "      <td>Agent</td>\n",
       "      <td>domcache_srp_57071547</td>\n",
       "    </tr>\n",
       "    <tr>\n",
       "      <th>4</th>\n",
       "      <td>4</td>\n",
       "      <td>4</td>\n",
       "      <td>20210917.0</td>\n",
       "      <td>NaN</td>\n",
       "      <td>NaN</td>\n",
       "      <td>3</td>\n",
       "      <td>Unfurnished</td>\n",
       "      <td>80000.0</td>\n",
       "      <td>Apartment</td>\n",
       "      <td>Agent</td>\n",
       "      <td>domcache_srp_56793769</td>\n",
       "    </tr>\n",
       "  </tbody>\n",
       "</table>\n",
       "</div>"
      ],
      "text/plain": [
       "  bathrooms bedrooms2  date_posted builder2 project floor  furnish_status  \\\n",
       "0       NaN       NaN          NaN      NaN     NaN   NaN             NaN   \n",
       "1         2         2   20210918.0      NaN     NaN     1     Unfurnished   \n",
       "2         3         3   20210918.0      NaN     NaN     1       Furnished   \n",
       "3         3         3   20210918.0      NaN     NaN     9  Semi-Furnished   \n",
       "4         4         4   20210917.0      NaN     NaN     3     Unfurnished   \n",
       "\n",
       "    price2           property_type2 user_type2                prop_id  \n",
       "0      NaN                      NaN        NaN     domcache_globalNav  \n",
       "1   9000.0        Residential House      Owner  domcache_srp_48930897  \n",
       "2  22000.0  Builder Floor Apartment      Agent  domcache_srp_57083523  \n",
       "3  40000.0                Apartment      Agent  domcache_srp_57071547  \n",
       "4  80000.0                Apartment      Agent  domcache_srp_56793769  "
      ]
     },
     "execution_count": 47,
     "metadata": {},
     "output_type": "execute_result"
    }
   ],
   "source": [
    "df1.head()"
   ]
  },
  {
   "cell_type": "code",
   "execution_count": 48,
   "metadata": {},
   "outputs": [],
   "source": [
    "frames1 = [df1, df2]\n",
    "df_cat1 = pd.concat(frames1)\n",
    "\n",
    "frames2 = [df_cat1, df3]\n",
    "df_cat2 = pd.concat(frames2)\n",
    "\n",
    "frames3 = [df_cat2, df4]\n",
    "df_cat3 = pd.concat(frames3)\n",
    "\n",
    "frames4 = [df_cat3, df5]\n",
    "df_cat4 = pd.concat(frames4)\n",
    "\n",
    "frames5 = [df_cat4, df6]\n",
    "df_cat5 = pd.concat(frames5)"
   ]
  },
  {
   "cell_type": "code",
   "execution_count": 49,
   "metadata": {},
   "outputs": [
    {
     "data": {
      "text/plain": [
       "(12363, 11)"
      ]
     },
     "execution_count": 49,
     "metadata": {},
     "output_type": "execute_result"
    }
   ],
   "source": [
    "df_cat5.shape"
   ]
  },
  {
   "cell_type": "code",
   "execution_count": 50,
   "metadata": {},
   "outputs": [],
   "source": [
    "df_cat5.drop_duplicates(subset=['prop_id'],inplace=True)"
   ]
  },
  {
   "cell_type": "code",
   "execution_count": 51,
   "metadata": {},
   "outputs": [
    {
     "data": {
      "text/plain": [
       "(9978, 11)"
      ]
     },
     "execution_count": 51,
     "metadata": {},
     "output_type": "execute_result"
    }
   ],
   "source": [
    "df_cat5.shape"
   ]
  },
  {
   "cell_type": "code",
   "execution_count": 52,
   "metadata": {},
   "outputs": [],
   "source": [
    "df_cat5.reset_index(drop=True, inplace=True)"
   ]
  },
  {
   "cell_type": "code",
   "execution_count": 53,
   "metadata": {},
   "outputs": [
    {
     "data": {
      "text/plain": [
       "(9978, 11)"
      ]
     },
     "execution_count": 53,
     "metadata": {},
     "output_type": "execute_result"
    }
   ],
   "source": [
    "df_cat5.shape"
   ]
  },
  {
   "cell_type": "code",
   "execution_count": 54,
   "metadata": {},
   "outputs": [
    {
     "data": {
      "text/plain": [
       "'3'"
      ]
     },
     "execution_count": 54,
     "metadata": {},
     "output_type": "execute_result"
    }
   ],
   "source": [
    "df_cat5.loc[5,'bedrooms2']"
   ]
  },
  {
   "cell_type": "code",
   "execution_count": 55,
   "metadata": {},
   "outputs": [],
   "source": [
    "df_cat5.to_csv('concat_second.csv', index=False)"
   ]
  },
  {
   "cell_type": "code",
   "execution_count": null,
   "metadata": {},
   "outputs": [],
   "source": []
  },
  {
   "cell_type": "code",
   "execution_count": null,
   "metadata": {},
   "outputs": [],
   "source": []
  },
  {
   "cell_type": "code",
   "execution_count": null,
   "metadata": {},
   "outputs": [],
   "source": []
  }
 ],
 "metadata": {
  "kernelspec": {
   "display_name": "Python 3",
   "language": "python",
   "name": "python3"
  },
  "language_info": {
   "codemirror_mode": {
    "name": "ipython",
    "version": 3
   },
   "file_extension": ".py",
   "mimetype": "text/x-python",
   "name": "python",
   "nbconvert_exporter": "python",
   "pygments_lexer": "ipython3",
   "version": "3.8.5"
  }
 },
 "nbformat": 4,
 "nbformat_minor": 4
}
